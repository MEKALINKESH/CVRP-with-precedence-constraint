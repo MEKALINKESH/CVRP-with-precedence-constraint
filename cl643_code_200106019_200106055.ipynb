{
  "cells": [
    {
      "cell_type": "code",
      "execution_count": 198,
      "metadata": {
        "id": "WyQAuR5n5v-7"
      },
      "outputs": [],
      "source": [
        "import numpy as np\n",
        "import matplotlib.pyplot as plt"
      ]
    },
    {
      "cell_type": "markdown",
      "source": [
        "\n",
        "\n",
        "\n",
        "\n",
        "Generating Random Data\n",
        "\n",
        "```\n",
        "     Numpy and Random Seed: Importing NumPy and setting a seed for random number generation\n",
        "```\n",
        "\n",
        ""
      ],
      "metadata": {
        "id": "838e8zKe4o_E"
      }
    },
    {
      "cell_type": "code",
      "execution_count": 199,
      "metadata": {
        "id": "DByDeSxi5v-8"
      },
      "outputs": [],
      "source": [
        "rnd = np.random\n",
        "rnd.seed(0)"
      ]
    },
    {
      "cell_type": "code",
      "execution_count": 200,
      "metadata": {
        "id": "o-ISzyOR5v-8"
      },
      "outputs": [],
      "source": [
        "n = 10  # numbre of clients\n",
        "xc = rnd.rand(n+1)*200\n",
        "yc = rnd.rand(n+1)*100"
      ]
    },
    {
      "cell_type": "markdown",
      "source": [
        "Defining Variables:\n",
        "\n",
        "\n",
        "\n",
        "```\n",
        "n: Number of clients.\n",
        "\n",
        "xc and yc: Randomly generated coordinates for the clients.\n",
        "\n",
        "N, V, A: Lists representing nodes, vertices, and arcs for the problem.\n",
        "\n",
        "c: Dictionary containing distances between nodes, which is taken as cost to travel between nodes.\n",
        "\n",
        "Q, v_vehicle, v_orders, shapes, q: Variables related to vehicle capacity, volumes, and shapes.\n",
        "```\n",
        "\n"
      ],
      "metadata": {
        "id": "96QrSytm5Guz"
      }
    },
    {
      "cell_type": "code",
      "execution_count": 201,
      "metadata": {
        "id": "MzwSIAiF5v-9"
      },
      "outputs": [],
      "source": [
        "N = [i for i in range(1, n+1)]\n",
        "V = [0] + N\n",
        "A = [(i, j) for i in V for j in V if i != j]\n",
        "c = {(i, j): np.hypot(xc[i]-xc[j], yc[i]-yc[j]) for i, j in A}\n",
        "Q = 20\n",
        "v_vehicle = 30  # Volume capacity of the vehicle\n",
        "v_orders = {i: rnd.randint(5, 15) for i in N}  # Volume of orders for each customer\n",
        "shapes={i:rnd.randint(0,2)for i in N} #shape of container\n",
        "q = {i: rnd.randint(1, 10) for i in N}"
      ]
    },
    {
      "cell_type": "code",
      "source": [
        "shapes"
      ],
      "metadata": {
        "colab": {
          "base_uri": "https://localhost:8080/"
        },
        "id": "krP5Oya7xoBh",
        "outputId": "d91e1bcf-2b31-4cc7-e8c5-ca41829be4e2"
      },
      "execution_count": 202,
      "outputs": [
        {
          "output_type": "execute_result",
          "data": {
            "text/plain": [
              "{1: 1, 2: 1, 3: 0, 4: 1, 5: 0, 6: 1, 7: 0, 8: 0, 9: 0, 10: 0}"
            ]
          },
          "metadata": {},
          "execution_count": 202
        }
      ]
    },
    {
      "cell_type": "code",
      "source": [
        "v_orders"
      ],
      "metadata": {
        "colab": {
          "base_uri": "https://localhost:8080/"
        },
        "id": "dC3eVMvrxpXO",
        "outputId": "e6d7fe83-d754-4c21-ee48-a5a16f9f658e"
      },
      "execution_count": 203,
      "outputs": [
        {
          "output_type": "execute_result",
          "data": {
            "text/plain": [
              "{1: 8, 2: 8, 3: 8, 4: 12, 5: 5, 6: 6, 7: 14, 8: 14, 9: 5, 10: 9}"
            ]
          },
          "metadata": {},
          "execution_count": 203
        }
      ]
    },
    {
      "cell_type": "markdown",
      "source": [
        "\n",
        "Plotting Clients and Depot:\n",
        "```\n",
        "Scatter plot for client coordinates (xc, yc) with blue color and annotations.\n",
        "Plotting the depot with a red square marker and annotation.\n",
        "```\n",
        "\n"
      ],
      "metadata": {
        "id": "n-0s17zu5g5p"
      }
    },
    {
      "cell_type": "code",
      "source": [
        "plt.scatter(xc[1:], yc[1:], c='b')\n",
        "for i in N:\n",
        "    plt.annotate('$O_%d$' % (i),(xc[i]+2,yc[i]))\n",
        "plt.plot(xc[0], yc[0], c='r', marker='s')\n",
        "plt.annotate('depot' ,(xc[0]+2,yc[0]))\n",
        "precedence_constraints = [1,7,9]"
      ],
      "metadata": {
        "colab": {
          "base_uri": "https://localhost:8080/",
          "height": 430
        },
        "id": "5Y_2wKFe04c0",
        "outputId": "1953bd92-9842-411a-f2cd-6cd06df09152"
      },
      "execution_count": 204,
      "outputs": [
        {
          "output_type": "display_data",
          "data": {
            "text/plain": [
              "<Figure size 640x480 with 1 Axes>"
            ],
            "image/png": "[encoded data removed]"
          },
          "metadata": {}
        }
      ]
    },
    {
      "cell_type": "markdown",
      "source": [
        "\n",
        "### Model Initialization using Gurobi\n",
        "\n",
        "Installing Gurobi:\n",
        "```\n",
        "If Gurobi is not installed, it installs it using !pip install gurobipy.\n",
        "```\n",
        "\n"
      ],
      "metadata": {
        "id": "hvvg_4V_5voL"
      }
    },
    {
      "cell_type": "code",
      "source": [
        "!pip install gurobipy"
      ],
      "metadata": {
        "colab": {
          "base_uri": "https://localhost:8080/"
        },
        "id": "euJUsrNs6Cdm",
        "outputId": "2b6ba57c-5546-46b5-9dd5-cb38a4814aa3"
      },
      "execution_count": 205,
      "outputs": [
        {
          "output_type": "stream",
          "name": "stdout",
          "text": [
            "Requirement already satisfied: gurobipy in /usr/local/lib/python3.10/dist-packages (11.0.0)\n"
          ]
        }
      ]
    },
    {
      "cell_type": "code",
      "execution_count": 206,
      "metadata": {
        "id": "jtRqCWok5v-9"
      },
      "outputs": [],
      "source": [
        "from gurobipy import Model, GRB, quicksum"
      ]
    },
    {
      "cell_type": "code",
      "execution_count": 207,
      "metadata": {
        "id": "4yGkIYJ_5v-9"
      },
      "outputs": [],
      "source": [
        "mdl = Model('CVRP')"
      ]
    },
    {
      "cell_type": "markdown",
      "source": [
        "\n",
        "\n",
        "\n",
        "####  Decision variables (x, u, p, v) are defined for the model.\n",
        "\n",
        "\n"
      ],
      "metadata": {
        "id": "nABnsoWp6Hcv"
      }
    },
    {
      "cell_type": "code",
      "execution_count": 208,
      "metadata": {
        "id": "5GzPKOBt5v--"
      },
      "outputs": [],
      "source": [
        "x = mdl.addVars(A, vtype=GRB.BINARY)\n",
        "u = mdl.addVars(N, vtype=GRB.CONTINUOUS)\n",
        "p = mdl.addVars(N, vtype=GRB.CONTINUOUS)\n",
        "v = mdl.addVars(N, vtype=GRB.CONTINUOUS, lb=0)"
      ]
    },
    {
      "cell_type": "markdown",
      "source": [
        "#### Void Volume Calculation"
      ],
      "metadata": {
        "id": "fKG0Y9yy6aIR"
      }
    },
    {
      "cell_type": "code",
      "source": [
        "# Calculate the void volume for spheres\n",
        "void_volume = {i: 0 for i in N}\n",
        "for i in N:\n",
        "    if shapes[i] == 1:  # Sphere\n",
        "        # Calculate void volume for spheres assuming sphere_volume is known\n",
        "        sphere_volume = v_orders[i]\n",
        "        sphere_radius = ((3 * sphere_volume) / (4 * np.pi)) ** (1/3)\n",
        "        cube_side = 2 * sphere_radius  # Side of the enclosing cube\n",
        "        void_volume[i] = cube_side ** 3 - sphere_volume  # Void volume"
      ],
      "metadata": {
        "id": "rqDJY7rDWi40"
      },
      "execution_count": 209,
      "outputs": []
    },
    {
      "cell_type": "markdown",
      "source": [
        "### Objective Function and Constraints"
      ],
      "metadata": {
        "id": "HQ-t90h-8okZ"
      }
    },
    {
      "cell_type": "markdown",
      "source": [
        "\n",
        "\n",
        "\n",
        "\n",
        "\n",
        "```\n",
        "Sets the objective function to minimize the total cost considering distances and penalty terms.\n",
        "```\n",
        "\n"
      ],
      "metadata": {
        "id": "5AlvUS7S6mnw"
      }
    },
    {
      "cell_type": "code",
      "execution_count": 210,
      "metadata": {
        "id": "R0nBNdi05v--"
      },
      "outputs": [],
      "source": [
        "penalty_coefficient = 2\n",
        "mdl.setObjective(\n",
        "    quicksum(c[i, j] * x[i, j] for i, j in A) +\n",
        "    penalty_coefficient * quicksum(void_volume[j] * x[i, j] for i, j in A if j!=0 and  shapes[j] == 1),\n",
        "    GRB.MINIMIZE\n",
        ")"
      ]
    },
    {
      "cell_type": "markdown",
      "source": [
        "\n",
        "#### Adding Constraints:\n",
        "\n",
        "Constraints ensure each node is visited exactly once, vehicle capacity and volume constraints are satisfied, and precedence constraints are applied.\n",
        "\n",
        "\n"
      ],
      "metadata": {
        "id": "tTQ9XiKI6603"
      }
    },
    {
      "cell_type": "code",
      "execution_count": 211,
      "metadata": {
        "colab": {
          "base_uri": "https://localhost:8080/"
        },
        "id": "llju-LAX5v--",
        "outputId": "38a12431-1eca-4190-ff7a-52750c267ddf"
      },
      "outputs": [
        {
          "output_type": "execute_result",
          "data": {
            "text/plain": [
              "{1: <gurobi.Constr *Awaiting Model Update*>,\n",
              " 2: <gurobi.Constr *Awaiting Model Update*>,\n",
              " 3: <gurobi.Constr *Awaiting Model Update*>,\n",
              " 4: <gurobi.Constr *Awaiting Model Update*>,\n",
              " 5: <gurobi.Constr *Awaiting Model Update*>,\n",
              " 6: <gurobi.Constr *Awaiting Model Update*>,\n",
              " 7: <gurobi.Constr *Awaiting Model Update*>,\n",
              " 8: <gurobi.Constr *Awaiting Model Update*>,\n",
              " 9: <gurobi.Constr *Awaiting Model Update*>,\n",
              " 10: <gurobi.Constr *Awaiting Model Update*>}"
            ]
          },
          "metadata": {},
          "execution_count": 211
        }
      ],
      "source": [
        "mdl.addConstrs(quicksum(x[i, j] for j in V if j != i) == 1 for i in N)\n",
        "mdl.addConstrs(quicksum(x[i, j] for i in V if i != j) == 1 for j in N)  # Binary variables for precedence order\n",
        "\n",
        "mdl.addConstrs((x[i, j] == 1) >> (u[i] + q[j] == u[j]) for i, j in A if i != 0 and j != 0)\n",
        "mdl.addConstrs(u[i] >= q[i] for i in N)\n",
        "mdl.addConstrs(u[j] <= Q for j in N)\n",
        "\n",
        "for i in range(len(precedence_constraints) - 1):\n",
        "    mdl.addConstr(x[precedence_constraints[i], precedence_constraints[i + 1]] == 1)\n",
        "    mdl.addConstr(u[precedence_constraints[i]]<= u[precedence_constraints[i+1]])\n",
        "\n",
        "for i, j in A:\n",
        "    if i != 0 and j != 0:\n",
        "        mdl.addConstr(v[i] + v_orders[j] + void_volume[j]<= v_vehicle)  # Volume constraint for each route\n",
        "mdl.addConstrs(v[i] >= 0 for i in N)"
      ]
    },
    {
      "cell_type": "markdown",
      "source": [
        "###Optimization\n",
        "\n",
        "Optimization Parameters and Solving the Model:\n",
        "Optimization parameters are set, and the model is solved.\n",
        "Active arcs (selected routes) are identified based on the solver results."
      ],
      "metadata": {
        "id": "XBhAwLk47ZeG"
      }
    },
    {
      "cell_type": "code",
      "source": [
        "mdl.Params.MIPGap = 0.1\n",
        "mdl.Params.TimeLimit = 500  # seconds\n",
        "mdl.optimize()"
      ],
      "metadata": {
        "colab": {
          "base_uri": "https://localhost:8080/"
        },
        "id": "FZ1vLOqBuiuQ",
        "outputId": "80547c35-9164-4dd8-e425-062ef51fa303"
      },
      "execution_count": 212,
      "outputs": [
        {
          "output_type": "stream",
          "name": "stdout",
          "text": [
            "Set parameter MIPGap to value 0.1\n",
            "Set parameter TimeLimit to value 500\n",
            "Gurobi Optimizer version 11.0.0 build v11.0.0rc2 (linux64 - \"Ubuntu 22.04.3 LTS\")\n",
            "\n",
            "CPU model: Intel(R) Xeon(R) CPU @ 2.20GHz, instruction set [SSE2|AVX|AVX2]\n",
            "Thread count: 1 physical cores, 2 logical processors, using up to 2 threads\n",
            "\n",
            "Optimize a model with 144 rows, 140 columns and 326 nonzeros\n",
            "Model fingerprint: 0xe66594e1\n",
            "Model has 90 general constraints\n",
            "Variable types: 30 continuous, 110 integer (110 binary)\n",
            "Coefficient statistics:\n",
            "  Matrix range     [1e+00, 1e+00]\n",
            "  Objective range  [2e+01, 2e+02]\n",
            "  Bounds range     [1e+00, 1e+00]\n",
            "  RHS range        [1e+00, 2e+01]\n",
            "  GenCon rhs range [2e+00, 9e+00]\n",
            "  GenCon coe range [1e+00, 1e+00]\n",
            "Presolve removed 31 rows and 71 columns\n",
            "Presolve time: 0.01s\n",
            "Presolved: 113 rows, 69 columns, 399 nonzeros\n",
            "Variable types: 25 continuous, 44 integer (44 binary)\n",
            "Found heuristic solution: objective 1046.0713689\n",
            "Found heuristic solution: objective 935.8790771\n",
            "Found heuristic solution: objective 929.3619554\n",
            "\n",
            "Root relaxation: objective 6.003191e+02, 34 iterations, 0.00 seconds (0.00 work units)\n",
            "\n",
            "    Nodes    |    Current Node    |     Objective Bounds      |     Work\n",
            " Expl Unexpl |  Obj  Depth IntInf | Incumbent    BestBd   Gap | It/Node Time\n",
            "\n",
            "     0     0  600.31913    0   18  929.36196  600.31913  35.4%     -    0s\n",
            "H    0     0                     909.1937744  600.31913  34.0%     -    0s\n",
            "H    0     0                     812.0304608  600.31913  26.1%     -    0s\n",
            "H    0     0                     803.7630967  600.31913  25.3%     -    0s\n",
            "H    0     0                     794.0904209  600.31913  24.4%     -    0s\n",
            "     0     0  647.48624    0   20  794.09042  647.48624  18.5%     -    0s\n",
            "H    0     0                     753.6042091  666.53003  11.6%     -    0s\n",
            "     0     0  666.53003    0   20  753.60421  666.53003  11.6%     -    0s\n",
            "     0     0  666.53003    0   21  753.60421  666.53003  11.6%     -    0s\n",
            "     0     0  671.90601    0   16  753.60421  671.90601  10.8%     -    0s\n",
            "\n",
            "Cutting planes:\n",
            "  Learned: 4\n",
            "  Cover: 1\n",
            "  Implied bound: 2\n",
            "  Relax-and-lift: 3\n",
            "\n",
            "Explored 1 nodes (92 simplex iterations) in 0.10 seconds (0.01 work units)\n",
            "Thread count was 2 (of 2 available processors)\n",
            "\n",
            "Solution count 8: 753.604 794.09 803.763 ... 1046.07\n",
            "\n",
            "Optimal solution found (tolerance 1.00e-01)\n",
            "Best objective 7.536042091300e+02, best bound 7.033147438748e+02, gap 6.6732%\n"
          ]
        }
      ]
    },
    {
      "cell_type": "code",
      "source": [
        "active_arcs = [a for a in A if x[a].x > 0.99]"
      ],
      "metadata": {
        "id": "AlbJIFTPYKk7"
      },
      "execution_count": 213,
      "outputs": []
    },
    {
      "cell_type": "code",
      "source": [
        "active_arcs"
      ],
      "metadata": {
        "colab": {
          "base_uri": "https://localhost:8080/"
        },
        "id": "dJjmIwo9r0Vi",
        "outputId": "b38dc975-887f-47a9-e7a0-4e5563ef8e52"
      },
      "execution_count": 214,
      "outputs": [
        {
          "output_type": "execute_result",
          "data": {
            "text/plain": [
              "[(0, 1),\n",
              " (0, 3),\n",
              " (0, 4),\n",
              " (0, 10),\n",
              " (1, 7),\n",
              " (2, 6),\n",
              " (3, 5),\n",
              " (4, 0),\n",
              " (5, 0),\n",
              " (6, 0),\n",
              " (7, 9),\n",
              " (8, 2),\n",
              " (9, 0),\n",
              " (10, 8)]"
            ]
          },
          "metadata": {},
          "execution_count": 214
        }
      ]
    },
    {
      "cell_type": "markdown",
      "source": [
        "### Plotting Active Arcs\n",
        "\n",
        "Arrows between connected nodes are plotted based on active arcs found in the optimization.\n",
        "Annotations with arrow indices are added."
      ],
      "metadata": {
        "id": "lFCLObNB7nsg"
      }
    },
    {
      "cell_type": "code",
      "source": [
        "for i, j in active_arcs:\n",
        "    plt.plot([xc[i], xc[j]], [yc[i], yc[j]], c='g', zorder=0)\n",
        "plt.scatter(xc[1:], yc[1:], c='b')\n",
        "for i in N:\n",
        "    plt.annotate('$o_%d=%d$' % (i, i),(xc[i]+2,yc[i]))\n",
        "plt.plot(xc[0], yc[0], c='r', marker='s')\n",
        "plt.annotate('depot' ,(xc[0]+2,yc[0]))"
      ],
      "metadata": {
        "colab": {
          "base_uri": "https://localhost:8080/",
          "height": 447
        },
        "id": "OfonQECpubNx",
        "outputId": "6c87df63-00d9-4b5e-c733-93d3db939a88"
      },
      "execution_count": 215,
      "outputs": [
        {
          "output_type": "execute_result",
          "data": {
            "text/plain": [
              "Text(111.76270078546494, 52.88949197529045, 'depot')"
            ]
          },
          "metadata": {},
          "execution_count": 215
        },
        {
          "output_type": "display_data",
          "data": {
            "text/plain": [
              "<Figure size 640x480 with 1 Axes>"
            ],
            "image/png": "[encoded data removed]"
          },
          "metadata": {}
        }
      ]
    },
    {
      "cell_type": "code",
      "source": [
        "plt.scatter(xc[1:], yc[1:], c='white')\n",
        "for i in N:\n",
        "    plt.annotate('$O_%d$' % (i), (xc[i]+2, yc[i]))\n",
        "plt.plot(xc[0], yc[0], c='r', marker='s')\n",
        "plt.annotate('depot', (xc[0]+2, yc[0]))\n",
        "\n",
        "for idx, (i, j) in enumerate(active_arcs):\n",
        "        dx = xc[j] - xc[i]\n",
        "        dy = yc[j] - yc[i]\n",
        "        plt.arrow(xc[i], yc[i], dx, dy, head_width=3, head_length=3, fc='pink', ec='g')\n",
        "        plt.annotate(str(idx + 1), ((xc[i] + xc[j]) / 2, (yc[i] + yc[j]) / 2), color='red')\n",
        "\n",
        "plt.show()"
      ],
      "metadata": {
        "colab": {
          "base_uri": "https://localhost:8080/",
          "height": 430
        },
        "id": "HGeMs0g_rlnO",
        "outputId": "de667253-15cd-4143-8f5f-e5ad19201089"
      },
      "execution_count": 216,
      "outputs": [
        {
          "output_type": "display_data",
          "data": {
            "text/plain": [
              "<Figure size 640x480 with 1 Axes>"
            ],
            "image/png": "[encoded data removed]"
          },
          "metadata": {}
        }
      ]
    }
  ],
  "metadata": {
    "kernelspec": {
      "display_name": "Python 3",
      "language": "python",
      "name": "python3"
    },
    "language_info": {
      "codemirror_mode": {
        "name": "ipython",
        "version": 3
      },
      "file_extension": ".py",
      "mimetype": "text/x-python",
      "name": "python",
      "nbconvert_exporter": "python",
      "pygments_lexer": "ipython3",
      "version": "3.7.4"
    },
    "colab": {
      "provenance": []
    }
  },
  "nbformat": 4,
  "nbformat_minor": 0
}